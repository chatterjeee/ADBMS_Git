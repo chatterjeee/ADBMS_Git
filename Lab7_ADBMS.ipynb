{
 "cells": [
  {
   "cell_type": "code",
   "execution_count": 1,
   "id": "be05737b",
   "metadata": {},
   "outputs": [],
   "source": [
    "import mysql.connector"
   ]
  },
  {
   "cell_type": "code",
   "execution_count": 4,
   "id": "bc780b45",
   "metadata": {},
   "outputs": [
    {
     "name": "stdout",
     "output_type": "stream",
     "text": [
      "<mysql.connector.connection.MySQLConnection object at 0x000001FBE07F4ED0>\n"
     ]
    }
   ],
   "source": [
    "mydb=mysql.connector.connect(host=\"localhost\",port=3306,user=\"root\",password=\"\",database=\"adbms_final\")\n",
    "print(mydb)"
   ]
  },
  {
   "cell_type": "code",
   "execution_count": 5,
   "id": "e7ee2f9e",
   "metadata": {},
   "outputs": [],
   "source": [
    "mycursor = mydb.cursor(buffered=True)"
   ]
  },
  {
   "cell_type": "code",
   "execution_count": 6,
   "id": "9b4b66a1",
   "metadata": {},
   "outputs": [],
   "source": [
    "mycursor.execute(\"CREATE TABLE instructor (ID int,name VARCHAR(255), dept_name VARCHAR(255), salary int)\")\n",
    "mydb.commit()"
   ]
  },
  {
   "cell_type": "code",
   "execution_count": 8,
   "id": "63411e75",
   "metadata": {},
   "outputs": [
    {
     "name": "stdout",
     "output_type": "stream",
     "text": [
      "('instructor',)\n"
     ]
    }
   ],
   "source": [
    "mycursor.execute(\"SHOW TABLES\")\n",
    "for x in mycursor:\n",
    "    print(x)"
   ]
  },
  {
   "cell_type": "code",
   "execution_count": 9,
   "id": "968666c8",
   "metadata": {},
   "outputs": [],
   "source": [
    "sql = \"INSERT INTO instructor (id, name, dept_name, salary) VALUES (%s, %s,%s, %s)\"\n",
    "val = [\n",
    "    (10101, \"Srinivasan\", \"Comp. Sci.\", 65000),\n",
    "    (12121, \"Wu\", \"Finance\", 90000),\n",
    "    (15151, \"Mozart\", \"Music\", 40000),\n",
    "    (22222, \"Einstein\", \"Physics\", 95000),\n",
    "    (32343, \"El Said\", \"History\", 60000),\n",
    "    (33456, \"Gold\", \"Physics\", 87000),\n",
    "    (45565, \"Katz\", \"Comp. Sci.\", 75000),\n",
    "    (58583, \"Califieri\", \"History\", 62000),\n",
    "    (76543, \"Singh\", \"Finance\", 80000),\n",
    "    (76766, \"Crick\", \"Biology\", 72000),\n",
    "    (83821, \"Brandt\", \"Comp. Sci.\", 92000),\n",
    "    (98345, \"Kim\", \"Elec. Eng.\", 80000)\n",
    "]\n",
    "mycursor.executemany(sql, val)\n",
    "mydb.commit()"
   ]
  },
  {
   "cell_type": "code",
   "execution_count": 10,
   "id": "af8b85ef",
   "metadata": {},
   "outputs": [],
   "source": [
    "mycursor.execute(\"ALTER TABLE instructor ADD PRIMARY KEY (ID)\")\n",
    "mydb.commit()"
   ]
  },
  {
   "cell_type": "markdown",
   "id": "851ab7b7",
   "metadata": {},
   "source": [
    "Create a view of instructors without their salary called faculty"
   ]
  },
  {
   "cell_type": "code",
   "execution_count": 12,
   "id": "89536acf",
   "metadata": {},
   "outputs": [],
   "source": [
    "mycursor.execute(\"CREATE VIEW Faculty AS SELECT id, name, dept_name, salary FROM instructor\")\n",
    "mydb.commit()"
   ]
  },
  {
   "cell_type": "markdown",
   "id": "556e5732",
   "metadata": {},
   "source": [
    "Create a view of department salary totals"
   ]
  },
  {
   "cell_type": "code",
   "execution_count": 13,
   "id": "5f46b0d1",
   "metadata": {},
   "outputs": [],
   "source": [
    "mycursor.execute(\"CREATE VIEW DeptSalaryTotals AS SELECT dept_name,sum(salary) FROM instructor group by dept_name\")\n",
    "mydb.commit()"
   ]
  },
  {
   "cell_type": "markdown",
   "id": "d96c07cd",
   "metadata": {},
   "source": [
    "Create a role of student"
   ]
  },
  {
   "cell_type": "code",
   "execution_count": 32,
   "id": "5cf5818c",
   "metadata": {},
   "outputs": [],
   "source": [
    "mycursor.execute(\"CREATE ROLE student\")\n",
    "mydb.commit()"
   ]
  },
  {
   "cell_type": "markdown",
   "id": "9227e7d2",
   "metadata": {},
   "source": [
    "Give select privileges on the view faculty to the role student"
   ]
  },
  {
   "cell_type": "code",
   "execution_count": 34,
   "id": "1b20184e",
   "metadata": {},
   "outputs": [],
   "source": [
    "mycursor.execute(\"GRANT SELECT on adbms_final.faculty to student\")\n",
    "mydb.commit()"
   ]
  },
  {
   "cell_type": "markdown",
   "id": "c6e735be",
   "metadata": {},
   "source": [
    "Create a new user and assign her the role of student."
   ]
  },
  {
   "cell_type": "code",
   "execution_count": 35,
   "id": "963a90a2",
   "metadata": {},
   "outputs": [],
   "source": [
    "mycursor.execute(\"create user 'new_user'@'localhost' identified by ''\")\n",
    "mycursor.execute(\"grant student to 'new_user'@'localhost'\")\n",
    "mydb.commit()"
   ]
  },
  {
   "cell_type": "markdown",
   "id": "1620bfff",
   "metadata": {},
   "source": [
    "Revoke privileges of the new user"
   ]
  },
  {
   "cell_type": "code",
   "execution_count": 36,
   "id": "1d61f990",
   "metadata": {},
   "outputs": [],
   "source": [
    "mycursor.execute(\"REVOKE ALL PRIVILEGES ON *.* FROM 'new_user'@'localhost'\")\n",
    "mydb.commit()"
   ]
  },
  {
   "cell_type": "markdown",
   "id": "e51402e8",
   "metadata": {},
   "source": [
    "Remove the role of student"
   ]
  },
  {
   "cell_type": "code",
   "execution_count": 37,
   "id": "8911d4b4",
   "metadata": {},
   "outputs": [],
   "source": [
    "mycursor.execute(\"drop role student\")\n",
    "mydb.commit()"
   ]
  },
  {
   "cell_type": "markdown",
   "id": "521e39e0",
   "metadata": {},
   "source": [
    "Give select privileges on the view faculty to the new user."
   ]
  },
  {
   "cell_type": "code",
   "execution_count": 39,
   "id": "2c801c22",
   "metadata": {},
   "outputs": [],
   "source": [
    "mycursor.execute(\"grant select on adbms_final.faculty to 'new_user'@'localhost'\")\n",
    "mydb.commit()"
   ]
  },
  {
   "cell_type": "markdown",
   "id": "3279a983",
   "metadata": {},
   "source": [
    "Create table teaches2 with same columns as teaches but with additional constraintthat that semester is one of fall, winter, spring or summer."
   ]
  },
  {
   "cell_type": "code",
   "execution_count": 46,
   "id": "e8adbb86",
   "metadata": {},
   "outputs": [],
   "source": [
    "mycursor.execute(\"\"\"\n",
    "            CREATE TABLE teaches2 (\n",
    "                ID INT,\n",
    "                Course_id VARCHAR(255),\n",
    "                sec_id INT,\n",
    "                semester ENUM('fall', 'winter', 'spring', 'summer'),\n",
    "                PRIMARY KEY (ID)\n",
    "            )\n",
    "        \"\"\")\n",
    "mydb.commit()"
   ]
  },
  {
   "cell_type": "markdown",
   "id": "60a6203d",
   "metadata": {},
   "source": [
    "Create index ID column of teaches. Compare the difference in time to obtain query\n",
    "results with or without index."
   ]
  },
  {
   "cell_type": "code",
   "execution_count": 48,
   "id": "2fcad963",
   "metadata": {},
   "outputs": [],
   "source": [
    "mycursor.execute(\"create index idx_teaches_ID on teaches(ID)\")\n",
    "mydb.commit()"
   ]
  },
  {
   "cell_type": "code",
   "execution_count": 50,
   "id": "cedc7c4a",
   "metadata": {},
   "outputs": [
    {
     "name": "stdout",
     "output_type": "stream",
     "text": [
      "(32343, 'HIS-351', 1, 'Spring', 2018)\n",
      "Time without using index:  0.002965688705444336\n"
     ]
    }
   ],
   "source": [
    "import time\n",
    "startime=time.time()\n",
    "sql=\"select * from teaches where id=32343\"\n",
    "mycursor.execute(sql)\n",
    "myresult = mycursor.fetchall()\n",
    "for x in myresult:\n",
    "    print(x)\n",
    "endtime=time.time()\n",
    "duration=endtime-startime\n",
    "print(\"Time without using index: \",duration)"
   ]
  },
  {
   "cell_type": "code",
   "execution_count": 52,
   "id": "e299b714",
   "metadata": {},
   "outputs": [
    {
     "name": "stdout",
     "output_type": "stream",
     "text": [
      "(32343, 'HIS-351', 1, 'Spring', 2018)\n",
      "Time with using index:  0.00099945068359375\n"
     ]
    }
   ],
   "source": [
    "import time\n",
    "startime=time.time()\n",
    "sql=\"SELECT * FROM teaches USE INDEX (idx_teaches_ID) WHERE ID = 32343\"\n",
    "mycursor.execute(sql)\n",
    "myresult = mycursor.fetchall()\n",
    "for x in myresult:\n",
    "    print(x)\n",
    "endtime=time.time()\n",
    "duration=endtime-startime\n",
    "print(\"Time with using index: \",duration)"
   ]
  },
  {
   "cell_type": "code",
   "execution_count": null,
   "id": "5ebeceac",
   "metadata": {},
   "outputs": [],
   "source": []
  }
 ],
 "metadata": {
  "kernelspec": {
   "display_name": "Python 3 (ipykernel)",
   "language": "python",
   "name": "python3"
  },
  "language_info": {
   "codemirror_mode": {
    "name": "ipython",
    "version": 3
   },
   "file_extension": ".py",
   "mimetype": "text/x-python",
   "name": "python",
   "nbconvert_exporter": "python",
   "pygments_lexer": "ipython3",
   "version": "3.11.5"
  }
 },
 "nbformat": 4,
 "nbformat_minor": 5
}
